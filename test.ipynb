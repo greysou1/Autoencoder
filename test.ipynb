{
 "cells": [
  {
   "cell_type": "code",
   "execution_count": 50,
   "metadata": {},
   "outputs": [],
   "source": [
    "import time\n",
    "import torch\n",
    "import torch.nn as nn\n",
    "import torch.nn.functional as F"
   ]
  },
  {
   "cell_type": "markdown",
   "metadata": {},
   "source": [
    "### encoder"
   ]
  },
  {
   "cell_type": "code",
   "execution_count": 170,
   "metadata": {},
   "outputs": [
    {
     "name": "stdout",
     "output_type": "stream",
     "text": [
      "torch.Size([16, 28, 28])\n"
     ]
    },
    {
     "data": {
      "text/plain": [
       "torch.Size([16, 14, 14])"
      ]
     },
     "execution_count": 170,
     "metadata": {},
     "output_type": "execute_result"
    }
   ],
   "source": [
    "conv1 = nn.Conv2d(1, 16, 3, stride=(1, 1), padding=(1, 1))\n",
    "maxpool = nn.MaxPool2d(kernel_size=(2, 2), stride=(2, 2))\n",
    "input = torch.randn(1, 28, 28)\n",
    "output = conv1(input)\n",
    "print(output.shape)\n",
    "output = maxpool(output)\n",
    "output.shape"
   ]
  },
  {
   "cell_type": "code",
   "execution_count": 171,
   "metadata": {},
   "outputs": [
    {
     "data": {
      "text/plain": [
       "torch.Size([32, 7, 7])"
      ]
     },
     "execution_count": 171,
     "metadata": {},
     "output_type": "execute_result"
    }
   ],
   "source": [
    "conv2 = nn.Conv2d(16, 32, 3,stride=(1, 1), padding=(1,1))\n",
    "output = conv2(output)\n",
    "output = maxpool(output)\n",
    "output.shape"
   ]
  },
  {
   "cell_type": "markdown",
   "metadata": {},
   "source": [
    "### decoder"
   ]
  },
  {
   "cell_type": "code",
   "execution_count": 172,
   "metadata": {},
   "outputs": [
    {
     "data": {
      "text/plain": [
       "torch.Size([16, 14, 14])"
      ]
     },
     "execution_count": 172,
     "metadata": {},
     "output_type": "execute_result"
    }
   ],
   "source": [
    "conv3 = nn.ConvTranspose2d(32, 16, 3,stride=(2, 2), padding=(1,1), output_padding=1)\n",
    "output = conv3(output)\n",
    "# output = maxpool(output)\n",
    "output.shape"
   ]
  },
  {
   "cell_type": "code",
   "execution_count": 173,
   "metadata": {},
   "outputs": [
    {
     "data": {
      "text/plain": [
       "torch.Size([8, 28, 28])"
      ]
     },
     "execution_count": 173,
     "metadata": {},
     "output_type": "execute_result"
    }
   ],
   "source": [
    "conv4 = nn.ConvTranspose2d(16, 8, 3,stride=(2, 2), padding=(1,1), output_padding=1)\n",
    "output = conv4(output)\n",
    "# output = maxpool(output)\n",
    "\n",
    "output.shape"
   ]
  },
  {
   "cell_type": "code",
   "execution_count": 174,
   "metadata": {},
   "outputs": [
    {
     "data": {
      "text/plain": [
       "torch.Size([8, 56, 56])"
      ]
     },
     "execution_count": 174,
     "metadata": {},
     "output_type": "execute_result"
    }
   ],
   "source": [
    "upsample = nn.UpsamplingBilinear2d(scale_factor=2)\n",
    "output = upsample(output[None, :])[0]\n",
    "output.shape"
   ]
  },
  {
   "cell_type": "code",
   "execution_count": 175,
   "metadata": {},
   "outputs": [
    {
     "data": {
      "text/plain": [
       "torch.Size([1, 28, 28])"
      ]
     },
     "execution_count": 175,
     "metadata": {},
     "output_type": "execute_result"
    }
   ],
   "source": [
    "conv5 = nn.Conv2d(8, 1, 3,stride=(2, 2), padding=(1,1))#, output_padding=1)\n",
    "output = conv5(output)\n",
    "# maxpool = nn.MaxPool2d(kernel_size=(2, 2), stride=(1, 1))\n",
    "# output = maxpool(output)\n",
    "output.shape"
   ]
  },
  {
   "cell_type": "code",
   "execution_count": 178,
   "metadata": {},
   "outputs": [
    {
     "name": "stdout",
     "output_type": "stream",
     "text": [
      "torch.Size([1, 28, 28])\n",
      "torch.Size([1, 784])\n",
      "torch.Size([1, 28, 28])\n"
     ]
    }
   ],
   "source": [
    "data = torch.randn(1, 28, 28)\n",
    "print(data.shape)\n",
    "data = data.reshape(-1, 28*28)\n",
    "print(data.shape)\n",
    "data = data.reshape(1, 28, -1)\n",
    "print(data.shape)\n"
   ]
  },
  {
   "cell_type": "code",
   "execution_count": null,
   "metadata": {},
   "outputs": [],
   "source": []
  }
 ],
 "metadata": {
  "kernelspec": {
   "display_name": "Python 3.9.9 64-bit",
   "language": "python",
   "name": "python3"
  },
  "language_info": {
   "codemirror_mode": {
    "name": "ipython",
    "version": 3
   },
   "file_extension": ".py",
   "mimetype": "text/x-python",
   "name": "python",
   "nbconvert_exporter": "python",
   "pygments_lexer": "ipython3",
   "version": "3.9.9"
  },
  "orig_nbformat": 4,
  "vscode": {
   "interpreter": {
    "hash": "aee8b7b246df8f9039afb4144a1f6fd8d2ca17a180786b69acc140d282b71a49"
   }
  }
 },
 "nbformat": 4,
 "nbformat_minor": 2
}
